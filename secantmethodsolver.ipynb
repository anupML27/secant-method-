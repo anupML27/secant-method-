{
 "cells": [
  {
   "cell_type": "code",
   "execution_count": 1,
   "metadata": {},
   "outputs": [],
   "source": [
    "def secantSolver(coefficients):    \n",
    "    assumptions=[8000,-8000]\n",
    "    constant=coefficients.copy()\n",
    "    inputs=coefficients.copy()\n",
    "    def funct(x):\n",
    "        counter=1\n",
    "        y=0\n",
    "        for i in inputs:\n",
    "            y=y+i*x**(len(coefficients)-counter)\n",
    "            counter=counter+1\n",
    "        return y    \n",
    "\n",
    "    c=[]\n",
    "    c.extend(inputs)\n",
    "    import matplotlib.pyplot as plt\n",
    "    %matplotlib inline\n",
    "\n",
    "    solutions=[]\n",
    "\n",
    "    def secantMethod(x1,x2):\n",
    "        itter=0\n",
    "        itterations=[]\n",
    "        solutions=[]\n",
    "        error=5\n",
    "        ans='a'\n",
    "        while (error>0.00000001):  \n",
    "            if funct(x2)==funct(x1):\n",
    "                x2=x1/10\n",
    "                x1=x2/10\n",
    "            else:   \n",
    "                x3=x2-funct(x2)*(x2-x1)/(funct(x2)-funct(x1))    \n",
    "                error=abs(funct(x3))\n",
    "                x1=x2\n",
    "                x2=x3\n",
    "                itter=itter+1\n",
    "                itterations.append(itter)\n",
    "                solutions.append(x3)\n",
    "            if itter>900:\n",
    "                ans=\"imaginary\"\n",
    "                break \n",
    "        #fig=plt.figure(figsize=(12,5))\n",
    "        #plt.xlabel(\"Itterations\")\n",
    "       # plt.ylabel(\"Solution\")\n",
    "       # plt.plot(itterations,solutions)   \n",
    "        if ans!=\"imaginary\":\n",
    "            try:\n",
    "                return x3    \n",
    "            except:\n",
    "                return(\"imaginary\")\n",
    "        else:\n",
    "            return(\"imaginary\")\n",
    "\n",
    "    answer=secantMethod(assumptions[0],assumptions[1])\n",
    "    solutions.append(answer)\n",
    "    for i in range(0,len(inputs)-2):\n",
    "\n",
    "        for j in range(0,len(inputs)):\n",
    "            if j>=i:\n",
    "                try:\n",
    "                    if j==i:\n",
    "                        inputs[j]=0\n",
    "                    else:\n",
    "                        inputs[j]=coefficients[j-1]+answer*inputs[j-1]\n",
    "                except:\n",
    "                    pass\n",
    "            else:\n",
    "                pass\n",
    "        coefficients=inputs.copy()\n",
    "        c.extend(inputs)\n",
    "        answer=secantMethod(assumptions[0],assumptions[1])\n",
    "\n",
    "        solutions.append(answer)\n",
    "\n",
    "\n",
    "    index=len(solutions)\n",
    "    index\n",
    "    for i in solutions:\n",
    "        if i=='imaginary':\n",
    "            index=solutions.index(i)\n",
    "            break\n",
    "\n",
    "    solutions=solutions[:index]\n",
    "    return solutions       "
   ]
  },
  {
   "cell_type": "code",
   "execution_count": 2,
   "metadata": {},
   "outputs": [
    {
     "data": {
      "text/plain": [
       "[-0.6347715618583222, 0.4921526700541082]"
      ]
     },
     "execution_count": 2,
     "metadata": {},
     "output_type": "execute_result"
    }
   ],
   "source": [
    "secantSolver([1,4,6,7,2,4,48,5,-15])"
   ]
  },
  {
   "cell_type": "code",
   "execution_count": 3,
   "metadata": {},
   "outputs": [
    {
     "data": {
      "text/plain": [
       "array([-2.33073977+0.50058014j, -2.33073977-0.50058014j,\n",
       "       -0.59397003+1.9527333j , -0.59397003-1.9527333j ,\n",
       "        0.99601924+1.01785527j,  0.99601924-1.01785527j,\n",
       "       -0.63477156+0.j        ,  0.49215267+0.j        ])"
      ]
     },
     "execution_count": 3,
     "metadata": {},
     "output_type": "execute_result"
    }
   ],
   "source": [
    "import numpy as np\n",
    "np.roots([1,4,6,7,2,4,48,5,-15])"
   ]
  },
  {
   "cell_type": "code",
   "execution_count": 14,
   "metadata": {},
   "outputs": [],
   "source": [
    "\n"
   ]
  },
  {
   "cell_type": "code",
   "execution_count": 16,
   "metadata": {},
   "outputs": [
    {
     "data": {
      "text/plain": [
       "[]"
      ]
     },
     "execution_count": 16,
     "metadata": {},
     "output_type": "execute_result"
    }
   ],
   "source": [
    "secantSolver(li)"
   ]
  },
  {
   "cell_type": "code",
   "execution_count": 23,
   "metadata": {},
   "outputs": [],
   "source": [
    "value=0.1*1e-3\n"
   ]
  },
  {
   "cell_type": "code",
   "execution_count": 24,
   "metadata": {},
   "outputs": [],
   "source": [
    "li=[-2.00E-08,3.00E-06,-0.0002,0.0053,-0.0806,0.6228,-2.06-value]\n"
   ]
  },
  {
   "cell_type": "code",
   "execution_count": 25,
   "metadata": {},
   "outputs": [
    {
     "data": {
      "text/plain": [
       "[]"
      ]
     },
     "execution_count": 25,
     "metadata": {},
     "output_type": "execute_result"
    }
   ],
   "source": [
    "secantSolver(li)"
   ]
  },
  {
   "cell_type": "code",
   "execution_count": null,
   "metadata": {},
   "outputs": [],
   "source": []
  }
 ],
 "metadata": {
  "kernelspec": {
   "display_name": "Python 3",
   "language": "python",
   "name": "python3"
  },
  "language_info": {
   "codemirror_mode": {
    "name": "ipython",
    "version": 3
   },
   "file_extension": ".py",
   "mimetype": "text/x-python",
   "name": "python",
   "nbconvert_exporter": "python",
   "pygments_lexer": "ipython3",
   "version": "3.7.6"
  }
 },
 "nbformat": 4,
 "nbformat_minor": 4
}
